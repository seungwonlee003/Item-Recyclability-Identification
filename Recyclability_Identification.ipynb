{
  "nbformat": 4,
  "nbformat_minor": 0,
  "metadata": {
    "colab": {
      "provenance": [],
      "include_colab_link": true
    },
    "kernelspec": {
      "name": "python3",
      "display_name": "Python 3"
    },
    "language_info": {
      "name": "python"
    },
    "accelerator": "GPU",
    "gpuClass": "standard"
  },
  "cells": [
    {
      "cell_type": "markdown",
      "metadata": {
        "id": "view-in-github",
        "colab_type": "text"
      },
      "source": [
        "<a href=\"https://colab.research.google.com/github/seungwonlee003/Item-Recyclability-Identification/blob/main/Recyclability_Identification.ipynb\" target=\"_parent\"><img src=\"https://colab.research.google.com/assets/colab-badge.svg\" alt=\"Open In Colab\"/></a>"
      ]
    },
    {
      "cell_type": "code",
      "execution_count": null,
      "metadata": {
        "id": "PCPa-Ab2yqZy"
      },
      "outputs": [],
      "source": [
        "import tensorflow as tf\n",
        "from tensorflow.keras.preprocessing.image import load_img, img_to_array\n",
        "import numpy as np\n",
        "from PIL import Image\n",
        "\n",
        "model = tf.keras.applications.ResNet50(include_top=False, weights='imagenet', input_shape=(224, 224, 3))\n",
        "\n",
        "# Freeze the pre-trained weights in the base model\n",
        "for layer in model.layers:\n",
        "    layer.trainable = False\n",
        "    \n",
        "\n",
        "# Add new layers on top of the pre-trained ResNet50 model\n",
        "x = model.output\n",
        "x = tf.keras.layers.GlobalAveragePooling2D()(x)\n",
        "x = tf.keras.layers.Dense(1024, activation='relu')(x)\n",
        "x = tf.keras.layers.Dropout(0.2)(x)\n",
        "predictions = tf.keras.layers.Dense(6, activation='softmax')(x)\n",
        "\n",
        "# Load the ResNet50 model\n",
        "model = tf.keras.applications.ResNet50(weights='imagenet')"
      ]
    },
    {
      "cell_type": "code",
      "source": [
        "from google.colab import drive\n",
        "drive.mount('/content/drive')"
      ],
      "metadata": {
        "colab": {
          "base_uri": "https://localhost:8080/"
        },
        "id": "tfvWsAOJyugr",
        "outputId": "022d5a72-34f3-44b6-edf5-95d4621e31e1"
      },
      "execution_count": null,
      "outputs": [
        {
          "output_type": "stream",
          "name": "stdout",
          "text": [
            "Mounted at /content/drive\n"
          ]
        }
      ]
    },
    {
      "cell_type": "code",
      "source": [
        "import tensorflow as tf\n",
        "from tensorflow.keras.preprocessing.image import ImageDataGenerator\n",
        "\n",
        "train_datagen = ImageDataGenerator(\n",
        "    rescale=1./255,\n",
        "    shear_range=0.2,\n",
        "    zoom_range=0.2,\n",
        "    horizontal_flip=True,\n",
        "    rotation_range=20,\n",
        "    width_shift_range=0.2,\n",
        "    height_shift_range=0.2,\n",
        "    brightness_range=[0.5, 1.5])\n",
        "\n",
        "valid_datagen = ImageDataGenerator(rescale=1./255)\n",
        "\n",
        "train_generator = train_datagen.flow_from_directory(\n",
        "    'file path for training dataset',\n",
        "    target_size=(224, 224),\n",
        "    batch_size=12,\n",
        "    class_mode='categorical')\n",
        "\n",
        "valid_generator = valid_datagen.flow_from_directory(\n",
        "    'file path for validation dataset',\n",
        "    target_size=(224, 224),\n",
        "    batch_size=12,\n",
        "    class_mode='categorical')\n",
        "\n",
        "model = tf.keras.applications.ResNet50(include_top=False, weights='imagenet', input_shape=(224, 224, 3))\n",
        "\n",
        "# Freeze the pre-trained weights in the base model\n",
        "for layer in model.layers[:-10]:\n",
        "    layer.trainable = False\n",
        "\n",
        "# Add new layers on top of the pre-trained ResNet50 model\n",
        "x = model.output\n",
        "x = tf.keras.layers.GlobalAveragePooling2D()(x)\n",
        "x = tf.keras.layers.Dense(1024, activation='relu')(x)\n",
        "x = tf.keras.layers.Dropout(0.5)(x)\n",
        "x = tf.keras.layers.Dense(512, activation='relu')(x)\n",
        "x = tf.keras.layers.Dropout(0.5)(x)\n",
        "predictions = tf.keras.layers.Dense(6, activation='softmax')(x)\n",
        "\n",
        "# Build the final model\n",
        "model = tf.keras.Model(inputs=model.input, outputs=predictions)\n",
        "\n",
        "# Compile the model\n",
        "model.compile(optimizer=tf.keras.optimizers.Adam(lr=0.0001), loss='categorical_crossentropy', metrics=['accuracy'])\n",
        "\n",
        "# Train the model\n",
        "model.fit(train_generator, epochs=50, validation_data=valid_generator)\n",
        "\n",
        "# Evaluate the model\n",
        "model.evaluate(valid_generator)\n"
      ],
      "metadata": {
        "id": "08726OLZyw57"
      },
      "execution_count": null,
      "outputs": []
    },
    {
      "cell_type": "code",
      "source": [
        "import numpy as np\n",
        "from tensorflow.keras.preprocessing.image import load_img, img_to_array\n",
        "\n",
        "# Define the class labels\n",
        "class_labels = [\"cardboard\", \"glass\", \"metal\", \"paper\", \"plastic\", \"trash\"]\n",
        "\n",
        "# Load an image\n",
        "img = load_img('file path for actual image', target_size=(224, 224))\n",
        "\n",
        "# Preprocess the image\n",
        "img_array = img_to_array(img)\n",
        "img_array = np.expand_dims(img_array, axis=0)\n",
        "img_array /= 255.\n",
        "\n",
        "# Make a prediction\n",
        "predictions = model.predict(img_array)\n",
        "\n",
        "# Get the predicted class index\n",
        "predicted_class_index = np.argmax(predictions)\n",
        "\n",
        "# Get the predicted class label\n",
        "predicted_class_label = class_labels[predicted_class_index]\n",
        "\n",
        "# Determine if the predicted class is recyclable or not\n",
        "if predicted_class_label == \"trash\":\n",
        "    print(\"The item is not recyclable.\")\n",
        "else:\n",
        "    print(\"The item is recyclable.\")"
      ],
      "metadata": {
        "id": "JTLDNr5a0TE3"
      },
      "execution_count": null,
      "outputs": []
    }
  ]
}